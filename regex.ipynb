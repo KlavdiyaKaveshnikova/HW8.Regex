{
 "cells": [
  {
   "cell_type": "markdown",
   "metadata": {},
   "source": [
    "**Задание 1.** Напишите функцию, которая принимает на вход строку и проверяет является ли она валидным транспортным номером. Если да, то функция должна возвращать отдельно номер и регион."
   ]
  },
  {
   "cell_type": "code",
   "execution_count": 1,
   "metadata": {},
   "outputs": [],
   "source": [
    "import re"
   ]
  },
  {
   "cell_type": "code",
   "execution_count": 25,
   "metadata": {},
   "outputs": [
    {
     "name": "stdout",
     "output_type": "stream",
     "text": [
      "т543тт67\n",
      "Номер т/с - 543, регион регистрации т/с - 67\n"
     ]
    }
   ],
   "source": [
    "transport_number = input()\n",
    "try:\n",
    "    check_transport_number = r'([а,в,е,к,м,н,о,р,с,т,у,х]{1})(\\d{3})([а,в,е,к,м,н,о,р,с,т,у,х]{2})(\\d{1,3})'\n",
    "    result_check = re.search(check_transport_number, transport_number, re.I)\n",
    "    print(f'Номер т/с - {result_check.group(2)}, регион регистрации т/с - {result_check.group(4)}')\n",
    "except:\n",
    "    print('Номер не валиден')"
   ]
  },
  {
   "cell_type": "markdown",
   "metadata": {},
   "source": [
    "**Задание 2**. Постарайтесь написать (в крайнем случае найти) самый полный шаблон для проверки e-mail адресов через регулярное выражение, которая проверяет e-mail адрес на валидность. Можно руководствоваться следующими минимальными требованиями:\n",
    "* адрес должен содержать специальный символ \"@\", который отделяет имя пользователя почтовой системы от доменного имени;\n",
    "* адрес не должен содержать следующие символы: \"пробел\", \",\", \":\", \";\", \"!\", \"#\", \"%\", \"*\", \"(\", \")\", \"=\", \"+\", \"{\", \"}\", \" \" \", \" ' \", \" / \", \" \\ \" и \"|\";\n",
    "* адрес должен состоять только из латинских символов;\n",
    "* после символа \"@\" должна быть как минимум одна \".\";\n",
    "* после последней точки должно быть не менее 2-х и не более 4-х символов, причем наличие цифр не допускается;\n",
    "* между последней точкой и символом \"@\" должно быть не менее 2-х символов\n",
    "* слева от \"@\" должно быть не менее четырех символов\n"
   ]
  },
  {
   "cell_type": "code",
   "execution_count": 114,
   "metadata": {},
   "outputs": [
    {
     "name": "stdout",
     "output_type": "stream",
     "text": [
      "подходящий адрес\n"
     ]
    }
   ],
   "source": [
    "email_address = 'googool@mail.ru'\n",
    "email_pattern = r'^[\\w+]{4,}@[\\w+]{1,}.\\w+\\.[a-z]{2,4}$'\n",
    "result_check_email = re.findall(email_pattern, email_address)\n",
    "print('подходящий адрес' if result_check_email else 'неподходящий адрес')"
   ]
  },
  {
   "cell_type": "markdown",
   "metadata": {},
   "source": [
    "**Задание 3.** Напишите функцию, которая будет удалять все последовательные повторы слов из заданной строки при помощи регулярных выражений."
   ]
  },
  {
   "cell_type": "markdown",
   "metadata": {},
   "source": [
    "**Заметка**\n",
    "Первый вариант решения загуглила, способ очень лаконичен, все было бы замечательно, если бы не проблема в том, что вот это выражение я не поняла `(r'\\b([^\\W\\d_]+)(\\s+\\1)+\\b', r'\\1'` совсем. Поэтому решила топорным способом (вариант 2), которое понимаю. Была бы признательна за объяснение первого варианта."
   ]
  },
  {
   "cell_type": "code",
   "execution_count": 118,
   "metadata": {},
   "outputs": [
    {
     "data": {
      "text/plain": [
       "'Идет медведь встретил белку и упал'"
      ]
     },
     "execution_count": 118,
     "metadata": {},
     "output_type": "execute_result"
    }
   ],
   "source": [
    "strings_for_check = 'Идет идет  медведь медведь, встретил  белку Белку и! упал  упал упал!'\n",
    "\n",
    "def del_repeats(text):\n",
    "    new_text = re.sub(r'\\b([^\\W\\d_]+)(\\s+\\1)+\\b', r'\\1', re.sub(r'\\W+', ' ', text).strip(), flags=re.I)\n",
    "    return new_text\n",
    "\n",
    "del_repeats(strings_for_check)"
   ]
  },
  {
   "cell_type": "code",
   "execution_count": 170,
   "metadata": {},
   "outputs": [
    {
     "name": "stdout",
     "output_type": "stream",
     "text": [
      "Идет медведь встретил белку и упал "
     ]
    }
   ],
   "source": [
    "strings_for_check = 'Идет идет       медведь медведь, встретил  белку Белку и! упал  упал упал!'\n",
    "\n",
    "def del_repeats_2(text):\n",
    "    new_text_2 = re.sub(r'\\W+', ' ', text).strip().lower().split()\n",
    "    element = new_text_2[0]\n",
    "    print(element.title(), end =' ')\n",
    "    for word in new_text_2:\n",
    "        if word != element:\n",
    "            print(word, end = ' ')\n",
    "            element = word\n",
    "        else:\n",
    "            pass\n",
    "\n",
    "del_repeats_2(strings_for_check)"
   ]
  },
  {
   "cell_type": "markdown",
   "metadata": {},
   "source": [
    "**Задание 4**. Напишите функцию, которая будет проверять номер сотового телефона на валидность, если он валиден, то переводить его в формат:   \n",
    "+7(xxx)-xxx-xx-xx  \n",
    "Постарайтесь предусмотреть как можно больше адекватных форматов изначального ввода номера.\n",
    "Примеры валидных форматов:\n",
    "- +7 955 555-55-55;\n",
    "- 9555555555;\n",
    "- 8(955)555-55-55;\n",
    "- +7 955 555 55 55;\n",
    "- 7(955) 555-55-55;\n",
    "- +7 955+555+55+55."
   ]
  },
  {
   "cell_type": "code",
   "execution_count": 225,
   "metadata": {},
   "outputs": [
    {
     "name": "stdout",
     "output_type": "stream",
     "text": [
      "78787\n",
      "Номер не валиден\n"
     ]
    }
   ],
   "source": [
    "phone_number_source = input().replace(' ','')\n",
    "\n",
    "def check_number_phone(number):\n",
    "    adapt_phone_number = re.sub(r'\\D+', '', number).strip()\n",
    "    phone_number_pattern = r'^[78]{0,1}(9\\d{2})(\\d{3})(\\d{2})(\\d{2})$'\n",
    "    if re.findall(phone_number_pattern, adapt_phone_number):\n",
    "        return re.sub(phone_number_pattern , r'+7(\\1)-\\2-\\3-\\4', adapt_phone_number)\n",
    "    else:\n",
    "        print('Номер не валиден')\n",
    "\n",
    "check_number_phone(phone_number_source)"
   ]
  }
 ],
 "metadata": {
  "kernelspec": {
   "display_name": "Python 3",
   "language": "python",
   "name": "python3"
  },
  "language_info": {
   "codemirror_mode": {
    "name": "ipython",
    "version": 3
   },
   "file_extension": ".py",
   "mimetype": "text/x-python",
   "name": "python",
   "nbconvert_exporter": "python",
   "pygments_lexer": "ipython3",
   "version": "3.7.6"
  }
 },
 "nbformat": 4,
 "nbformat_minor": 2
}
